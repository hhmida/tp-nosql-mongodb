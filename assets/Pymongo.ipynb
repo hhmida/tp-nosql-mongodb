{
 "cells": [
  {
   "cell_type": "markdown",
   "id": "28542bfe",
   "metadata": {},
   "source": [
    "# Se connecter au serveur MongoDB"
   ]
  },
  {
   "cell_type": "code",
   "execution_count": 1,
   "id": "344fd68a",
   "metadata": {},
   "outputs": [],
   "source": [
    "from pymongo import MongoClient\n",
    "\n",
    "client = MongoClient(\"localhost\", 27017)"
   ]
  },
  {
   "cell_type": "markdown",
   "id": "a55ea450",
   "metadata": {},
   "source": [
    "# Afficher les BD disponibles "
   ]
  },
  {
   "cell_type": "code",
   "execution_count": null,
   "id": "dc8f0bcd",
   "metadata": {},
   "outputs": [],
   "source": [
    "client.list_database_names()"
   ]
  },
  {
   "cell_type": "markdown",
   "id": "fa060311",
   "metadata": {},
   "source": [
    "# Sélectionner une bases de données"
   ]
  },
  {
   "cell_type": "code",
   "execution_count": 2,
   "id": "d48e3c1f",
   "metadata": {},
   "outputs": [],
   "source": [
    "db = client['flightstats']\n",
    "# le choix du bd permet de retrouver la même syntaxe que le shell de MongoDB"
   ]
  },
  {
   "cell_type": "markdown",
   "id": "2c716cd4",
   "metadata": {},
   "source": [
    "# Afficher les collections"
   ]
  },
  {
   "cell_type": "code",
   "execution_count": 3,
   "id": "0cbca550",
   "metadata": {},
   "outputs": [
    {
     "data": {
      "text/plain": [
       "['flights']"
      ]
     },
     "execution_count": 3,
     "metadata": {},
     "output_type": "execute_result"
    }
   ],
   "source": [
    "db.list_collection_names()"
   ]
  },
  {
   "cell_type": "markdown",
   "id": "d0f30049",
   "metadata": {},
   "source": [
    "# Nombre de document d'une collection"
   ]
  },
  {
   "cell_type": "code",
   "execution_count": 4,
   "id": "3842b312",
   "metadata": {},
   "outputs": [
    {
     "data": {
      "text/plain": [
       "20002"
      ]
     },
     "execution_count": 4,
     "metadata": {},
     "output_type": "execute_result"
    }
   ],
   "source": [
    "db.flights.count_documents({})"
   ]
  },
  {
   "cell_type": "markdown",
   "id": "6d6a62c5",
   "metadata": {},
   "source": [
    "# Afficher un document"
   ]
  },
  {
   "cell_type": "code",
   "execution_count": 5,
   "id": "150c3913",
   "metadata": {},
   "outputs": [
    {
     "name": "stdout",
     "output_type": "stream",
     "text": [
      "{'_id': ObjectId('634727c85afd6caa6fed4c9e'),\n",
      " 'date': '2001/01/13 14:56',\n",
      " 'delay': 32,\n",
      " 'destination': 'SJC',\n",
      " 'distance': 417,\n",
      " 'origin': 'SAN'}\n"
     ]
    }
   ],
   "source": [
    "from pprint import pprint\n",
    "pprint(db.flights.find_one())"
   ]
  },
  {
   "cell_type": "markdown",
   "id": "1f1ac6db",
   "metadata": {},
   "source": [
    "# Insertion"
   ]
  },
  {
   "cell_type": "code",
   "execution_count": 6,
   "id": "4f0c1dfb",
   "metadata": {},
   "outputs": [
    {
     "name": "stdout",
     "output_type": "stream",
     "text": [
      "634742d03646634ba81c9855\n"
     ]
    }
   ],
   "source": [
    "myflight = { 'date': '2022/10/10 10:15',\n",
    " 'delay': 12,\n",
    " 'destination': 'SJC',\n",
    " 'distance': 417,\n",
    " 'origin': 'SAN'}\n",
    "new_id = db.flights.insert_one(myflight).inserted_id\n",
    "print(new_id)"
   ]
  },
  {
   "cell_type": "markdown",
   "id": "ebe8a0a9",
   "metadata": {},
   "source": [
    "# Recherche par _id"
   ]
  },
  {
   "cell_type": "code",
   "execution_count": 7,
   "id": "7f194a29",
   "metadata": {},
   "outputs": [
    {
     "data": {
      "text/plain": [
       "0"
      ]
     },
     "execution_count": 7,
     "metadata": {},
     "output_type": "execute_result"
    }
   ],
   "source": [
    "# Remplacer la valeur _id par la sortie de la cellule précédente\n",
    "db.flights.count_documents({\"_id\":\"634742d03646634ba81c9855\"})"
   ]
  },
  {
   "cell_type": "code",
   "execution_count": 8,
   "id": "6fd868f8",
   "metadata": {},
   "outputs": [
    {
     "data": {
      "text/plain": [
       "1"
      ]
     },
     "execution_count": 8,
     "metadata": {},
     "output_type": "execute_result"
    }
   ],
   "source": [
    "db.flights.count_documents({\"_id\":new_id})"
   ]
  },
  {
   "cell_type": "code",
   "execution_count": 9,
   "id": "f69ef60b",
   "metadata": {},
   "outputs": [
    {
     "data": {
      "text/plain": [
       "1"
      ]
     },
     "execution_count": 9,
     "metadata": {},
     "output_type": "execute_result"
    }
   ],
   "source": [
    "from bson.objectid import ObjectId\n",
    "# Remplacer la valeur _id par la sortie de la cellule d'insertion de document\n",
    "db.flights.count_documents({\"_id\":ObjectId(\"634742d03646634ba81c9855\")})"
   ]
  },
  {
   "cell_type": "markdown",
   "id": "202c15b7",
   "metadata": {},
   "source": [
    "# Supprimer"
   ]
  },
  {
   "cell_type": "code",
   "execution_count": 10,
   "id": "60b030ff",
   "metadata": {},
   "outputs": [],
   "source": [
    "res = db.flights.delete_one({\"_id\":new_id})"
   ]
  },
  {
   "cell_type": "code",
   "execution_count": 11,
   "id": "36889072",
   "metadata": {},
   "outputs": [
    {
     "data": {
      "text/plain": [
       "1"
      ]
     },
     "execution_count": 11,
     "metadata": {},
     "output_type": "execute_result"
    }
   ],
   "source": [
    "# Nombre de documents supprimés \n",
    "res.deleted_count"
   ]
  },
  {
   "cell_type": "markdown",
   "id": "e09ae61c",
   "metadata": {},
   "source": [
    "# Recherche"
   ]
  },
  {
   "cell_type": "code",
   "execution_count": 12,
   "id": "79f12524",
   "metadata": {},
   "outputs": [],
   "source": [
    "# Les vols ayant un retard compris entre 60 et 61 minutes trié par le retard\n",
    "res = db.flights.find({\"$and\" :[{\"delay\":{\"$gte\":60}},{\"delay\":{\"$lte\":61}}]}).sort(\"delay\")"
   ]
  },
  {
   "cell_type": "code",
   "execution_count": 13,
   "id": "31d70fe4",
   "metadata": {
    "scrolled": false
   },
   "outputs": [
    {
     "name": "stdout",
     "output_type": "stream",
     "text": [
      "SJC-LAS: 60\n",
      "SJC-MCI: 60\n",
      "FLL-JAX: 60\n",
      "ONT-PHX: 60\n",
      "SFO-SAN: 60\n",
      "OAK-LAX: 60\n",
      "MDW-STL: 60\n",
      "LAS-ONT: 60\n",
      "OKC-MCI: 60\n",
      "DAL-AMA: 60\n",
      "SAN-TUS: 60\n",
      "PHX-BHM: 60\n",
      "PHX-ABQ: 60\n",
      "BWI-CLE: 60\n",
      "MHT-BWI: 60\n",
      "BUR-OAK: 60\n",
      "BNA-MDW: 60\n",
      "LAS-SLC: 60\n",
      "BWI-BNA: 60\n",
      "SJC-BUR: 60\n",
      "ISP-TPA: 60\n",
      "PDX-BOI: 60\n",
      "LAX-PHX: 60\n",
      "OAK-SEA: 60\n",
      "ABQ-PHX: 60\n",
      "RNO-OAK: 60\n",
      "SLC-PHX: 60\n",
      "SAN-ELP: 60\n",
      "OAK-LAX: 60\n",
      "SFO-PHX: 60\n",
      "SMF-BUR: 60\n",
      "MDW-BHM: 60\n",
      "OAK-LAX: 60\n",
      "SAN-PHX: 60\n",
      "MCI-PHX: 60\n",
      "ABQ-PHX: 60\n",
      "IAH-DAL: 60\n",
      "PHX-ONT: 60\n",
      "HOU-CRP: 60\n",
      "SJC-LAX: 60\n",
      "HOU-SAT: 60\n",
      "STL-HOU: 60\n",
      "MCI-BWI: 60\n",
      "RNO-OAK: 60\n",
      "SNA-SJC: 60\n",
      "SLC-OAK: 60\n",
      "DAL-AMA: 60\n",
      "SFO-PHX: 60\n",
      "ONT-PHX: 61\n",
      "ELP-AUS: 61\n",
      "HOU-MSY: 61\n",
      "BWI-MCO: 61\n",
      "MCI-MDW: 61\n"
     ]
    }
   ],
   "source": [
    "for fl in res:\n",
    "    print(f\"{fl['origin']}-{fl['destination']}: {fl['delay']}\")"
   ]
  },
  {
   "cell_type": "markdown",
   "id": "c6003997",
   "metadata": {},
   "source": [
    "# Agrégation et visualisation du résultat\n"
   ]
  },
  {
   "cell_type": "code",
   "execution_count": 14,
   "id": "652d92b0",
   "metadata": {},
   "outputs": [],
   "source": [
    "import seaborn as sns\n",
    "import matplotlib.pyplot as plt\n",
    "import pandas as pd\n",
    "#Calculer le retard par aéoroport de départ et afficher 5 premiers\n",
    "pipeline = [\n",
    "    {\"$group\": {\"_id\": \"$origin\", \"moyenne\": {\"$avg\": \"$delay\"}}},\n",
    "    {\"$sort\": {\"moyenne\":-1}},\n",
    "    {\"$limit\":5}]\n",
    "res = db.flights.aggregate(pipeline)"
   ]
  },
  {
   "cell_type": "code",
   "execution_count": 15,
   "id": "9c718703",
   "metadata": {},
   "outputs": [],
   "source": [
    "df = pd.DataFrame(list(res))\n",
    "df.rename({\"_id\":\"Aéroport\"}, axis=1, inplace=True)"
   ]
  },
  {
   "cell_type": "code",
   "execution_count": 16,
   "id": "e043ce19",
   "metadata": {},
   "outputs": [
    {
     "data": {
      "image/png": "[encoded data removed]",
      "text/plain": [
       "<Figure size 432x288 with 1 Axes>"
      ]
     },
     "metadata": {
      "needs_background": "light"
     },
     "output_type": "display_data"
    }
   ],
   "source": [
    "sns.barplot(data=df, y=\"moyenne\", x=\"Aéroport\")\n",
    "plt.show()"
   ]
  }
 ],
 "metadata": {
  "kernelspec": {
   "display_name": "Python 3 (ipykernel)",
   "language": "python",
   "name": "python3"
  },
  "language_info": {
   "codemirror_mode": {
    "name": "ipython",
    "version": 3
   },
   "file_extension": ".py",
   "mimetype": "text/x-python",
   "name": "python",
   "nbconvert_exporter": "python",
   "pygments_lexer": "ipython3",
   "version": "3.8.8"
  },
  "toc": {
   "base_numbering": 1,
   "nav_menu": {},
   "number_sections": true,
   "sideBar": true,
   "skip_h1_title": false,
   "title_cell": "Table of Contents",
   "title_sidebar": "Contents",
   "toc_cell": false,
   "toc_position": {},
   "toc_section_display": true,
   "toc_window_display": false
  },
  "varInspector": {
   "cols": {
    "lenName": 16,
    "lenType": 16,
    "lenVar": 40
   },
   "kernels_config": {
    "python": {
     "delete_cmd_postfix": "",
     "delete_cmd_prefix": "del ",
     "library": "var_list.py",
     "varRefreshCmd": "print(var_dic_list())"
    },
    "r": {
     "delete_cmd_postfix": ") ",
     "delete_cmd_prefix": "rm(",
     "library": "var_list.r",
     "varRefreshCmd": "cat(var_dic_list()) "
    }
   },
   "types_to_exclude": [
    "module",
    "function",
    "builtin_function_or_method",
    "instance",
    "_Feature"
   ],
   "window_display": false
  }
 },
 "nbformat": 4,
 "nbformat_minor": 5
}
